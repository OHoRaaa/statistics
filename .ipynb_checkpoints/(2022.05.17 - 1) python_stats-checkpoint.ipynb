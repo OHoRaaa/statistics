{
 "cells": [
  {
   "cell_type": "code",
   "execution_count": 1,
   "id": "ad91ecdf",
   "metadata": {},
   "outputs": [],
   "source": [
    "import pandas as pd\n",
    "import numpy as np\n",
    "import matplotlib.pyplot as plt\n",
    "import seaborn as sns"
   ]
  },
  {
   "cell_type": "code",
   "execution_count": 2,
   "id": "78cbc60c",
   "metadata": {},
   "outputs": [],
   "source": [
    "import scipy as sp"
   ]
  },
  {
   "cell_type": "code",
   "execution_count": 5,
   "id": "4afda94a",
   "metadata": {},
   "outputs": [],
   "source": [
    "# %precision 3    # 소수점 3자리까지 표현"
   ]
  },
  {
   "cell_type": "code",
   "execution_count": 6,
   "id": "b1e83c83",
   "metadata": {},
   "outputs": [],
   "source": [
    "import warnings\n",
    "warnings.filterwarnings(action = 'ignore')"
   ]
  },
  {
   "cell_type": "code",
   "execution_count": null,
   "id": "017aa4a1",
   "metadata": {},
   "outputs": [],
   "source": []
  },
  {
   "cell_type": "code",
   "execution_count": 7,
   "id": "5cd99147",
   "metadata": {},
   "outputs": [],
   "source": [
    "fish_data = [2,3,4,5,3,2,2,3,6,8,6]"
   ]
  },
  {
   "cell_type": "code",
   "execution_count": 8,
   "id": "1123ea97",
   "metadata": {},
   "outputs": [
    {
     "data": {
      "text/plain": [
       "4.0"
      ]
     },
     "execution_count": 8,
     "metadata": {},
     "output_type": "execute_result"
    }
   ],
   "source": [
    "sp.mean(fish_data)"
   ]
  },
  {
   "cell_type": "code",
   "execution_count": 9,
   "id": "fb8e3230",
   "metadata": {},
   "outputs": [
    {
     "data": {
      "text/plain": [
       "3.6363636363636362"
      ]
     },
     "execution_count": 9,
     "metadata": {},
     "output_type": "execute_result"
    }
   ],
   "source": [
    "sp.var(fish_data)"
   ]
  },
  {
   "cell_type": "code",
   "execution_count": null,
   "id": "0dd11227",
   "metadata": {},
   "outputs": [],
   "source": []
  },
  {
   "cell_type": "code",
   "execution_count": null,
   "id": "7a6c81de",
   "metadata": {},
   "outputs": [],
   "source": [
    "# 분산, 표준편차 : 데이터가 얼마나 평균에서 흩어져 있는지 변동성의 크기를 의미\n",
    "\n",
    "# 분산 : sum((x - x.mean)**) / n\n",
    "# 표준편차 : sp.sqrt(sum((x - x.mean)**2) / n)"
   ]
  },
  {
   "cell_type": "code",
   "execution_count": null,
   "id": "4e08eae6",
   "metadata": {},
   "outputs": [],
   "source": []
  },
  {
   "cell_type": "code",
   "execution_count": null,
   "id": "f4a29206",
   "metadata": {},
   "outputs": [],
   "source": []
  },
  {
   "cell_type": "code",
   "execution_count": 10,
   "id": "4adb6100",
   "metadata": {},
   "outputs": [
    {
     "data": {
      "text/plain": [
       "4.0"
      ]
     },
     "execution_count": 10,
     "metadata": {},
     "output_type": "execute_result"
    }
   ],
   "source": [
    "# 불편분산\n",
    "# ddof : 자유도 (전체 데이터 수 - 변수의 수)\n",
    "# 표본의 통계량을 계산 시 사용\n",
    "# 자유로이 값을 가질 수 있는 값의 개수\n",
    "# 표본의 분산이 모분산 보다 작게 값이 계산되는 것을 보정하는 값\n",
    "\n",
    "sp.var(fish_data, ddof=1) "
   ]
  },
  {
   "cell_type": "code",
   "execution_count": 11,
   "id": "9013824b",
   "metadata": {},
   "outputs": [
    {
     "data": {
      "text/plain": [
       "1.9069251784911847"
      ]
     },
     "execution_count": 11,
     "metadata": {},
     "output_type": "execute_result"
    }
   ],
   "source": [
    "sp.std(fish_data)"
   ]
  },
  {
   "cell_type": "code",
   "execution_count": 12,
   "id": "d403fdb0",
   "metadata": {},
   "outputs": [
    {
     "data": {
      "text/plain": [
       "2.0"
      ]
     },
     "execution_count": 12,
     "metadata": {},
     "output_type": "execute_result"
    }
   ],
   "source": [
    "sp.std(fish_data, ddof=1) # 불편표준편차"
   ]
  },
  {
   "cell_type": "code",
   "execution_count": null,
   "id": "d143a4da",
   "metadata": {},
   "outputs": [],
   "source": []
  },
  {
   "cell_type": "code",
   "execution_count": 13,
   "id": "485f6f9a",
   "metadata": {},
   "outputs": [],
   "source": [
    "# 정규화(z) : 평균을 0으로 표준편차를 1인 정규분포로 만드는 것\n",
    "# 정규화된 z값 : 평균 0을 중심으로 몇 표준편차 떨어져있는가를 나타내는 값"
   ]
  },
  {
   "cell_type": "code",
   "execution_count": 15,
   "id": "af96e4d3",
   "metadata": {},
   "outputs": [
    {
     "data": {
      "text/plain": [
       "array([-1.04880885, -0.52440442,  0.        ,  0.52440442, -0.52440442,\n",
       "       -1.04880885, -1.04880885, -0.52440442,  1.04880885,  2.0976177 ,\n",
       "        1.04880885])"
      ]
     },
     "execution_count": 15,
     "metadata": {},
     "output_type": "execute_result"
    }
   ],
   "source": [
    "(fish_data - sp.mean(fish_data)) / sp.std(fish_data) # 표준정규분포"
   ]
  },
  {
   "cell_type": "code",
   "execution_count": 16,
   "id": "cc6573d3",
   "metadata": {},
   "outputs": [
    {
     "data": {
      "text/plain": [
       "-1.0092936587501423e-16"
      ]
     },
     "execution_count": 16,
     "metadata": {},
     "output_type": "execute_result"
    }
   ],
   "source": [
    "sp.mean((fish_data - sp.mean(fish_data)) / sp.std(fish_data))"
   ]
  },
  {
   "cell_type": "code",
   "execution_count": 18,
   "id": "36e878c0",
   "metadata": {},
   "outputs": [
    {
     "data": {
      "text/plain": [
       "0.9999999999999998"
      ]
     },
     "execution_count": 18,
     "metadata": {},
     "output_type": "execute_result"
    }
   ],
   "source": [
    "sp.std((fish_data - sp.mean(fish_data)) / sp.std(fish_data))"
   ]
  },
  {
   "cell_type": "code",
   "execution_count": null,
   "id": "1c5d438d",
   "metadata": {},
   "outputs": [],
   "source": []
  },
  {
   "cell_type": "code",
   "execution_count": 19,
   "id": "89e4a78b",
   "metadata": {},
   "outputs": [],
   "source": [
    "# 기본 통계함수"
   ]
  },
  {
   "cell_type": "code",
   "execution_count": 20,
   "id": "e65f496f",
   "metadata": {},
   "outputs": [
    {
     "data": {
      "text/plain": [
       "4.0"
      ]
     },
     "execution_count": 20,
     "metadata": {},
     "output_type": "execute_result"
    }
   ],
   "source": [
    "sp.mean(fish_data)"
   ]
  },
  {
   "cell_type": "code",
   "execution_count": 21,
   "id": "388072ab",
   "metadata": {},
   "outputs": [
    {
     "data": {
      "text/plain": [
       "3.6363636363636362"
      ]
     },
     "execution_count": 21,
     "metadata": {},
     "output_type": "execute_result"
    }
   ],
   "source": [
    "sp.var(fish_data)"
   ]
  },
  {
   "cell_type": "code",
   "execution_count": 22,
   "id": "cd8eb85a",
   "metadata": {},
   "outputs": [
    {
     "data": {
      "text/plain": [
       "1.9069251784911847"
      ]
     },
     "execution_count": 22,
     "metadata": {},
     "output_type": "execute_result"
    }
   ],
   "source": [
    "sp.std(fish_data)"
   ]
  },
  {
   "cell_type": "code",
   "execution_count": 23,
   "id": "ca9036c3",
   "metadata": {},
   "outputs": [
    {
     "data": {
      "text/plain": [
       "8"
      ]
     },
     "execution_count": 23,
     "metadata": {},
     "output_type": "execute_result"
    }
   ],
   "source": [
    "sp.amax(fish_data)"
   ]
  },
  {
   "cell_type": "code",
   "execution_count": 24,
   "id": "416d9847",
   "metadata": {},
   "outputs": [
    {
     "data": {
      "text/plain": [
       "2"
      ]
     },
     "execution_count": 24,
     "metadata": {},
     "output_type": "execute_result"
    }
   ],
   "source": [
    "sp.amin(fish_data)"
   ]
  },
  {
   "cell_type": "code",
   "execution_count": 25,
   "id": "4bb36fd7",
   "metadata": {},
   "outputs": [
    {
     "data": {
      "text/plain": [
       "3.0"
      ]
     },
     "execution_count": 25,
     "metadata": {},
     "output_type": "execute_result"
    }
   ],
   "source": [
    "sp.median(fish_data)"
   ]
  },
  {
   "cell_type": "code",
   "execution_count": null,
   "id": "40d109ab",
   "metadata": {},
   "outputs": [],
   "source": []
  },
  {
   "cell_type": "code",
   "execution_count": 26,
   "id": "f9bff5f0",
   "metadata": {},
   "outputs": [],
   "source": [
    "# 공분산\n",
    "# 두 데이터가 함께 움직이는 수준, 두 데이터의 관계성, 방향성"
   ]
  },
  {
   "cell_type": "code",
   "execution_count": 27,
   "id": "8d6498d1",
   "metadata": {},
   "outputs": [
    {
     "data": {
      "text/html": [
       "<div>\n",
       "<style scoped>\n",
       "    .dataframe tbody tr th:only-of-type {\n",
       "        vertical-align: middle;\n",
       "    }\n",
       "\n",
       "    .dataframe tbody tr th {\n",
       "        vertical-align: top;\n",
       "    }\n",
       "\n",
       "    .dataframe thead th {\n",
       "        text-align: right;\n",
       "    }\n",
       "</style>\n",
       "<table border=\"1\" class=\"dataframe\">\n",
       "  <thead>\n",
       "    <tr style=\"text-align: right;\">\n",
       "      <th></th>\n",
       "      <th>x</th>\n",
       "      <th>y</th>\n",
       "    </tr>\n",
       "  </thead>\n",
       "  <tbody>\n",
       "    <tr>\n",
       "      <th>0</th>\n",
       "      <td>18.5</td>\n",
       "      <td>34</td>\n",
       "    </tr>\n",
       "    <tr>\n",
       "      <th>1</th>\n",
       "      <td>18.7</td>\n",
       "      <td>39</td>\n",
       "    </tr>\n",
       "    <tr>\n",
       "      <th>2</th>\n",
       "      <td>19.1</td>\n",
       "      <td>41</td>\n",
       "    </tr>\n",
       "    <tr>\n",
       "      <th>3</th>\n",
       "      <td>19.7</td>\n",
       "      <td>38</td>\n",
       "    </tr>\n",
       "    <tr>\n",
       "      <th>4</th>\n",
       "      <td>21.5</td>\n",
       "      <td>45</td>\n",
       "    </tr>\n",
       "    <tr>\n",
       "      <th>5</th>\n",
       "      <td>21.7</td>\n",
       "      <td>41</td>\n",
       "    </tr>\n",
       "    <tr>\n",
       "      <th>6</th>\n",
       "      <td>21.8</td>\n",
       "      <td>52</td>\n",
       "    </tr>\n",
       "    <tr>\n",
       "      <th>7</th>\n",
       "      <td>22.0</td>\n",
       "      <td>44</td>\n",
       "    </tr>\n",
       "    <tr>\n",
       "      <th>8</th>\n",
       "      <td>23.4</td>\n",
       "      <td>44</td>\n",
       "    </tr>\n",
       "    <tr>\n",
       "      <th>9</th>\n",
       "      <td>23.8</td>\n",
       "      <td>49</td>\n",
       "    </tr>\n",
       "  </tbody>\n",
       "</table>\n",
       "</div>"
      ],
      "text/plain": [
       "      x   y\n",
       "0  18.5  34\n",
       "1  18.7  39\n",
       "2  19.1  41\n",
       "3  19.7  38\n",
       "4  21.5  45\n",
       "5  21.7  41\n",
       "6  21.8  52\n",
       "7  22.0  44\n",
       "8  23.4  44\n",
       "9  23.8  49"
      ]
     },
     "execution_count": 27,
     "metadata": {},
     "output_type": "execute_result"
    }
   ],
   "source": [
    "cov_data = pd.read_csv('stat_files/cov.csv')\n",
    "cov_data"
   ]
  },
  {
   "cell_type": "code",
   "execution_count": 34,
   "id": "be305407",
   "metadata": {},
   "outputs": [],
   "source": [
    "x = cov_data.x\n",
    "y = cov_data.y"
   ]
  },
  {
   "cell_type": "code",
   "execution_count": 220,
   "id": "bcb176ab",
   "metadata": {},
   "outputs": [
    {
     "data": {
      "text/plain": [
       "6.9060000000000015"
      ]
     },
     "execution_count": 220,
     "metadata": {},
     "output_type": "execute_result"
    }
   ],
   "source": [
    "np.sum((cov_data.x - sp.mean(cov_data.x))*(cov_data.y - sp.mean(cov_data.y))) / len(cov_data.x)"
   ]
  },
  {
   "cell_type": "code",
   "execution_count": 37,
   "id": "fe64f752",
   "metadata": {},
   "outputs": [
    {
     "data": {
      "text/plain": [
       "array([[ 3.2816,  6.906 ],\n",
       "       [ 6.906 , 25.21  ]])"
      ]
     },
     "execution_count": 37,
     "metadata": {},
     "output_type": "execute_result"
    }
   ],
   "source": [
    "sp.cov(x, y, ddof = 0)"
   ]
  },
  {
   "cell_type": "code",
   "execution_count": null,
   "id": "691fbca3",
   "metadata": {},
   "outputs": [],
   "source": []
  },
  {
   "cell_type": "code",
   "execution_count": null,
   "id": "3696b54a",
   "metadata": {},
   "outputs": [],
   "source": [
    "# 상관계수 : 공분산 / (x표준편차 * y표준편차)"
   ]
  },
  {
   "cell_type": "code",
   "execution_count": 40,
   "id": "bb922335",
   "metadata": {},
   "outputs": [
    {
     "data": {
      "text/plain": [
       "0.7592719041137087"
      ]
     },
     "execution_count": 40,
     "metadata": {},
     "output_type": "execute_result"
    }
   ],
   "source": [
    "np.sum((cov_data.x - sp.mean(cov_data.x))*(cov_data.y - sp.mean(cov_data.y)) / len(cov_data.x)) / (sp.std(x) * sp.std(y))"
   ]
  },
  {
   "cell_type": "code",
   "execution_count": 44,
   "id": "2c1bd546",
   "metadata": {},
   "outputs": [
    {
     "data": {
      "text/plain": [
       "0.8436354490152319"
      ]
     },
     "execution_count": 44,
     "metadata": {},
     "output_type": "execute_result"
    }
   ],
   "source": [
    "# 불편상관계수 - 자유도 반영\n",
    "\n",
    "np.sum((cov_data.x - sp.mean(cov_data.x))*(cov_data.y - sp.mean(cov_data.y)) / (len(cov_data.x)-1)) / (sp.std(x) * sp.std(y))"
   ]
  },
  {
   "cell_type": "code",
   "execution_count": null,
   "id": "cdbf068e",
   "metadata": {},
   "outputs": [],
   "source": []
  },
  {
   "cell_type": "code",
   "execution_count": 45,
   "id": "52d7df87",
   "metadata": {},
   "outputs": [
    {
     "data": {
      "text/plain": [
       "array([[ 3.2816,  6.906 ],\n",
       "       [ 6.906 , 25.21  ]])"
      ]
     },
     "execution_count": 45,
     "metadata": {},
     "output_type": "execute_result"
    }
   ],
   "source": [
    "sp.cov(x, y, ddof=0)"
   ]
  },
  {
   "cell_type": "code",
   "execution_count": 46,
   "id": "5f703c2c",
   "metadata": {},
   "outputs": [
    {
     "data": {
      "text/plain": [
       "array([[ 3.64622222,  7.67333333],\n",
       "       [ 7.67333333, 28.01111111]])"
      ]
     },
     "execution_count": 46,
     "metadata": {},
     "output_type": "execute_result"
    }
   ],
   "source": [
    "sp.cov(x, y, ddof=1)"
   ]
  },
  {
   "cell_type": "code",
   "execution_count": 49,
   "id": "8bdbc133",
   "metadata": {},
   "outputs": [
    {
     "data": {
      "text/plain": [
       "array([[0.36079158, 0.7592719 ],\n",
       "       [0.7592719 , 2.77168328]])"
      ]
     },
     "execution_count": 49,
     "metadata": {},
     "output_type": "execute_result"
    }
   ],
   "source": [
    "sp.cov(x, y, ddof = 0) / (sp.std(x) * sp.std(y))"
   ]
  },
  {
   "cell_type": "code",
   "execution_count": 51,
   "id": "2518ac26",
   "metadata": {},
   "outputs": [
    {
     "data": {
      "text/plain": [
       "array([[0.36079158, 0.7592719 ],\n",
       "       [0.7592719 , 2.77168328]])"
      ]
     },
     "execution_count": 51,
     "metadata": {},
     "output_type": "execute_result"
    }
   ],
   "source": [
    "sp.cov(x, y, ddof = 0) / sp.sqrt((sp.var(x) * sp.var(y)))"
   ]
  },
  {
   "cell_type": "code",
   "execution_count": null,
   "id": "1dd5d1b4",
   "metadata": {},
   "outputs": [],
   "source": []
  },
  {
   "cell_type": "code",
   "execution_count": 52,
   "id": "1e942c41",
   "metadata": {},
   "outputs": [],
   "source": [
    "# 표본추출"
   ]
  },
  {
   "cell_type": "code",
   "execution_count": 54,
   "id": "e053160c",
   "metadata": {},
   "outputs": [],
   "source": [
    "fish_5 = np.array([2,3,4,5,6,7])"
   ]
  },
  {
   "cell_type": "code",
   "execution_count": 55,
   "id": "b3cd452b",
   "metadata": {},
   "outputs": [
    {
     "data": {
      "text/plain": [
       "array([3])"
      ]
     },
     "execution_count": 55,
     "metadata": {},
     "output_type": "execute_result"
    }
   ],
   "source": [
    "np.random.choice(fish_5, size = 1, replace = False)   # 비복원추출"
   ]
  },
  {
   "cell_type": "code",
   "execution_count": 59,
   "id": "febba367",
   "metadata": {},
   "outputs": [
    {
     "data": {
      "text/plain": [
       "array([2, 4, 4])"
      ]
     },
     "execution_count": 59,
     "metadata": {},
     "output_type": "execute_result"
    }
   ],
   "source": [
    "np.random.choice(fish_5, size = 3, replace = True)   # 복원추출"
   ]
  },
  {
   "cell_type": "code",
   "execution_count": null,
   "id": "a0238ecc",
   "metadata": {},
   "outputs": [],
   "source": []
  },
  {
   "cell_type": "code",
   "execution_count": 63,
   "id": "a694d9c1",
   "metadata": {
    "scrolled": true
   },
   "outputs": [
    {
     "data": {
      "text/html": [
       "<div>\n",
       "<style scoped>\n",
       "    .dataframe tbody tr th:only-of-type {\n",
       "        vertical-align: middle;\n",
       "    }\n",
       "\n",
       "    .dataframe tbody tr th {\n",
       "        vertical-align: top;\n",
       "    }\n",
       "\n",
       "    .dataframe thead th {\n",
       "        text-align: right;\n",
       "    }\n",
       "</style>\n",
       "<table border=\"1\" class=\"dataframe\">\n",
       "  <thead>\n",
       "    <tr style=\"text-align: right;\">\n",
       "      <th></th>\n",
       "      <th>length</th>\n",
       "    </tr>\n",
       "  </thead>\n",
       "  <tbody>\n",
       "    <tr>\n",
       "      <th>0</th>\n",
       "      <td>5.297442</td>\n",
       "    </tr>\n",
       "    <tr>\n",
       "      <th>1</th>\n",
       "      <td>3.505566</td>\n",
       "    </tr>\n",
       "    <tr>\n",
       "      <th>2</th>\n",
       "      <td>3.572546</td>\n",
       "    </tr>\n",
       "    <tr>\n",
       "      <th>3</th>\n",
       "      <td>3.135979</td>\n",
       "    </tr>\n",
       "    <tr>\n",
       "      <th>4</th>\n",
       "      <td>4.689275</td>\n",
       "    </tr>\n",
       "    <tr>\n",
       "      <th>...</th>\n",
       "      <td>...</td>\n",
       "    </tr>\n",
       "    <tr>\n",
       "      <th>99995</th>\n",
       "      <td>4.158780</td>\n",
       "    </tr>\n",
       "    <tr>\n",
       "      <th>99996</th>\n",
       "      <td>4.818718</td>\n",
       "    </tr>\n",
       "    <tr>\n",
       "      <th>99997</th>\n",
       "      <td>4.060880</td>\n",
       "    </tr>\n",
       "    <tr>\n",
       "      <th>99998</th>\n",
       "      <td>4.271488</td>\n",
       "    </tr>\n",
       "    <tr>\n",
       "      <th>99999</th>\n",
       "      <td>3.396745</td>\n",
       "    </tr>\n",
       "  </tbody>\n",
       "</table>\n",
       "<p>100000 rows × 1 columns</p>\n",
       "</div>"
      ],
      "text/plain": [
       "         length\n",
       "0      5.297442\n",
       "1      3.505566\n",
       "2      3.572546\n",
       "3      3.135979\n",
       "4      4.689275\n",
       "...         ...\n",
       "99995  4.158780\n",
       "99996  4.818718\n",
       "99997  4.060880\n",
       "99998  4.271488\n",
       "99999  3.396745\n",
       "\n",
       "[100000 rows x 1 columns]"
      ]
     },
     "execution_count": 63,
     "metadata": {},
     "output_type": "execute_result"
    }
   ],
   "source": [
    "fish_100000 = pd.read_csv('stat_files/fish_length_100000.csv')\n",
    "fish_100000"
   ]
  },
  {
   "cell_type": "code",
   "execution_count": 65,
   "id": "1c0d6dc3",
   "metadata": {},
   "outputs": [
    {
     "data": {
      "text/plain": [
       "100000"
      ]
     },
     "execution_count": 65,
     "metadata": {},
     "output_type": "execute_result"
    }
   ],
   "source": [
    "len(fish_100000)    # 모집단"
   ]
  },
  {
   "cell_type": "code",
   "execution_count": null,
   "id": "07098178",
   "metadata": {},
   "outputs": [],
   "source": []
  },
  {
   "cell_type": "code",
   "execution_count": 67,
   "id": "5cf3e23b",
   "metadata": {},
   "outputs": [
    {
     "data": {
      "text/plain": [
       "array([3.77492939, 3.66291744, 4.42617244, 4.31243738, 4.62747934,\n",
       "       3.23908043, 5.00676859, 4.94326723, 4.70157704, 3.25107906])"
      ]
     },
     "execution_count": 67,
     "metadata": {},
     "output_type": "execute_result"
    }
   ],
   "source": [
    "fish_sample = np.random.choice(fish_100000.length, size = 10, replace = False)    # 샘플(표본), 샘플의 크기 n=10\n",
    "fish_sample"
   ]
  },
  {
   "cell_type": "code",
   "execution_count": null,
   "id": "0c46313d",
   "metadata": {},
   "outputs": [],
   "source": []
  },
  {
   "cell_type": "code",
   "execution_count": 68,
   "id": "acaa8488",
   "metadata": {},
   "outputs": [
    {
     "data": {
      "text/plain": [
       "4.194570835312723"
      ]
     },
     "execution_count": 68,
     "metadata": {},
     "output_type": "execute_result"
    }
   ],
   "source": [
    "sp.mean(fish_sample)    # 샘플의 평균"
   ]
  },
  {
   "cell_type": "code",
   "execution_count": 69,
   "id": "d6dc2e5a",
   "metadata": {},
   "outputs": [
    {
     "data": {
      "text/plain": [
       "0.3994101293368339"
      ]
     },
     "execution_count": 69,
     "metadata": {},
     "output_type": "execute_result"
    }
   ],
   "source": [
    "sp.var(fish_sample)     # 샘플의 분산"
   ]
  },
  {
   "cell_type": "code",
   "execution_count": 70,
   "id": "3eba4278",
   "metadata": {},
   "outputs": [
    {
     "data": {
      "text/plain": [
       "0.6319890262788065"
      ]
     },
     "execution_count": 70,
     "metadata": {},
     "output_type": "execute_result"
    }
   ],
   "source": [
    "sp.std(fish_sample)    # 샘플의 표준편차"
   ]
  },
  {
   "cell_type": "code",
   "execution_count": null,
   "id": "12f1ba99",
   "metadata": {},
   "outputs": [],
   "source": []
  },
  {
   "cell_type": "code",
   "execution_count": 79,
   "id": "8ceb225f",
   "metadata": {},
   "outputs": [
    {
     "name": "stdout",
     "output_type": "stream",
     "text": [
      "length    4.0\n",
      "dtype: float64 length    0.64\n",
      "dtype: float64\n"
     ]
    }
   ],
   "source": [
    "# 모수\n",
    "\n",
    "mu = sp.mean(fish_100000)\n",
    "theta = sp.var(fish_100000)\n",
    "\n",
    "print(mu, theta)"
   ]
  },
  {
   "cell_type": "code",
   "execution_count": null,
   "id": "8ce424f7",
   "metadata": {},
   "outputs": [],
   "source": []
  },
  {
   "cell_type": "code",
   "execution_count": 73,
   "id": "307a5207",
   "metadata": {},
   "outputs": [],
   "source": [
    "# 중심극한정리\n",
    "\n",
    "# 모집단의 형태에 상관없이 사이즈가 큰 표본의 평균의 분포는 평균이 모평균, 분산이 모분산을 np.sqrt(n)으로 나눈 정규분표를 따른다"
   ]
  },
  {
   "cell_type": "code",
   "execution_count": 113,
   "id": "30785c76",
   "metadata": {},
   "outputs": [],
   "source": [
    "sample_means = []\n",
    "\n",
    "for _ in range(100):\n",
    "    sample = np.random.choice(fish_100000.length, size = 10, replace = False)\n",
    "    sample_mean = sp.mean(sample)\n",
    "    sample_means.append(sample_mean)"
   ]
  },
  {
   "cell_type": "code",
   "execution_count": 114,
   "id": "eee80abf",
   "metadata": {
    "scrolled": true
   },
   "outputs": [
    {
     "data": {
      "text/plain": [
       "[4.054251011009142,\n",
       " 4.122714008243394,\n",
       " 3.931005944782291,\n",
       " 4.04997419526102,\n",
       " 3.917154347213097,\n",
       " 3.964299170033417,\n",
       " 3.714102100041375,\n",
       " 4.30147439805841,\n",
       " 4.253245786238655,\n",
       " 3.9872019423878102,\n",
       " 4.241188330168042,\n",
       " 3.682029363148787,\n",
       " 4.201548934260271,\n",
       " 4.095485873263594,\n",
       " 4.117471137238603,\n",
       " 4.1645839461840035,\n",
       " 4.137423305861445,\n",
       " 3.9670128058970016,\n",
       " 4.197216870753239,\n",
       " 4.0034815654795155,\n",
       " 4.097762893604496,\n",
       " 4.134762468870424,\n",
       " 4.312877255064074,\n",
       " 4.663052183899259,\n",
       " 3.8032593943561324,\n",
       " 4.315944425236454,\n",
       " 3.8800702961709206,\n",
       " 4.169442466646837,\n",
       " 3.459006613012665,\n",
       " 4.354698991480908,\n",
       " 3.9838155956200105,\n",
       " 3.980692692129712,\n",
       " 3.6677193177951253,\n",
       " 3.8874482099821193,\n",
       " 3.528817373337946,\n",
       " 4.4332537373365195,\n",
       " 3.692589225712626,\n",
       " 3.983730847074205,\n",
       " 4.255005431162267,\n",
       " 3.917081511290507,\n",
       " 4.085329652114827,\n",
       " 3.9334233850253817,\n",
       " 3.856567111241449,\n",
       " 4.260197071109948,\n",
       " 3.9464125212947936,\n",
       " 4.41152892649542,\n",
       " 4.138461940641887,\n",
       " 4.182288397890746,\n",
       " 4.182854086124328,\n",
       " 3.832559144945477,\n",
       " 3.820741393562943,\n",
       " 4.288890288885054,\n",
       " 3.8912961539250404,\n",
       " 3.778054597464029,\n",
       " 4.389568772932843,\n",
       " 4.1850195191435615,\n",
       " 4.325956461314176,\n",
       " 3.8589429354433555,\n",
       " 4.277535787019453,\n",
       " 3.707721700592611,\n",
       " 3.701488924363614,\n",
       " 3.5569229183173676,\n",
       " 3.8608500582649183,\n",
       " 3.769705606538804,\n",
       " 4.0759445652772675,\n",
       " 4.07632001302274,\n",
       " 3.8966362147104774,\n",
       " 3.5260213442701747,\n",
       " 4.000205495853883,\n",
       " 4.082594118540749,\n",
       " 4.234004551876343,\n",
       " 3.7854119503759165,\n",
       " 3.9765150493764714,\n",
       " 3.4493089302792592,\n",
       " 4.342136397951381,\n",
       " 3.9610338408242143,\n",
       " 4.54801035811086,\n",
       " 4.123044959511299,\n",
       " 4.265165841610495,\n",
       " 4.314858592488199,\n",
       " 4.105364768786611,\n",
       " 4.048214983177709,\n",
       " 3.752807226718003,\n",
       " 4.303492613400504,\n",
       " 4.287460319732973,\n",
       " 3.91135878476915,\n",
       " 4.4141400890015445,\n",
       " 3.9110301043027107,\n",
       " 4.035997369768833,\n",
       " 3.674689982712055,\n",
       " 3.9557787268538886,\n",
       " 4.370649520537852,\n",
       " 4.402901197851979,\n",
       " 3.9618295082710433,\n",
       " 3.7168903755155385,\n",
       " 4.031157695343317,\n",
       " 4.105296866569374,\n",
       " 3.854789053779096,\n",
       " 4.268114469726227,\n",
       " 4.215825693280843]"
      ]
     },
     "execution_count": 114,
     "metadata": {},
     "output_type": "execute_result"
    }
   ],
   "source": [
    "sample_means   # 샘플 평균들의 분포"
   ]
  },
  {
   "cell_type": "code",
   "execution_count": 115,
   "id": "d6a196ca",
   "metadata": {},
   "outputs": [
    {
     "data": {
      "text/plain": [
       "4.038512148941374"
      ]
     },
     "execution_count": 115,
     "metadata": {},
     "output_type": "execute_result"
    }
   ],
   "source": [
    "sp.mean(sample_means)   # 샘플 평균들의 분포의 평균   => 모평균에 수렴"
   ]
  },
  {
   "cell_type": "code",
   "execution_count": 116,
   "id": "c7ceb958",
   "metadata": {},
   "outputs": [
    {
     "data": {
      "text/plain": [
       "0.06031835526565378"
      ]
     },
     "execution_count": 116,
     "metadata": {},
     "output_type": "execute_result"
    }
   ],
   "source": [
    "sp.var(sample_means)   # 샘플 평균들의 분포의 분산    => 모분산에 수렴"
   ]
  },
  {
   "cell_type": "code",
   "execution_count": 117,
   "id": "ba81f0b8",
   "metadata": {},
   "outputs": [
    {
     "data": {
      "text/plain": [
       "6.031835526565378"
      ]
     },
     "execution_count": 117,
     "metadata": {},
     "output_type": "execute_result"
    }
   ],
   "source": [
    "# 모분산\n",
    "\n",
    "sp.var(sample_means) * 100"
   ]
  },
  {
   "cell_type": "code",
   "execution_count": 111,
   "id": "38102dd3",
   "metadata": {},
   "outputs": [
    {
     "data": {
      "text/plain": [
       "0.021333333333333333"
      ]
     },
     "execution_count": 111,
     "metadata": {},
     "output_type": "execute_result"
    }
   ],
   "source": [
    "# 모분산 / n\n",
    "\n",
    "0.64 / 30"
   ]
  },
  {
   "cell_type": "code",
   "execution_count": null,
   "id": "e83e11d1",
   "metadata": {},
   "outputs": [],
   "source": []
  },
  {
   "cell_type": "code",
   "execution_count": 112,
   "id": "0a040235",
   "metadata": {},
   "outputs": [
    {
     "data": {
      "text/plain": [
       "<AxesSubplot:ylabel='Density'>"
      ]
     },
     "execution_count": 112,
     "metadata": {},
     "output_type": "execute_result"
    },
    {
     "data": {
      "image/png": "[encoded data removed]",
      "text/plain": [
       "<Figure size 432x288 with 1 Axes>"
      ]
     },
     "metadata": {
      "needs_background": "light"
     },
     "output_type": "display_data"
    }
   ],
   "source": [
    "sns.distplot(sample_means, bins = 100)  # 샘플 평균들의 분포 > 정규분포(mu, theta / n) > N(4, )"
   ]
  },
  {
   "cell_type": "code",
   "execution_count": null,
   "id": "973d5e76",
   "metadata": {},
   "outputs": [],
   "source": []
  },
  {
   "cell_type": "code",
   "execution_count": 118,
   "id": "7ec3ffda",
   "metadata": {},
   "outputs": [],
   "source": [
    "from scipy import stats"
   ]
  },
  {
   "cell_type": "code",
   "execution_count": 122,
   "id": "0dcddeb5",
   "metadata": {},
   "outputs": [
    {
     "data": {
      "text/plain": [
       "array([1. , 1.1, 1.2, 1.3, 1.4, 1.5, 1.6, 1.7, 1.8, 1.9, 2. , 2.1, 2.2,\n",
       "       2.3, 2.4, 2.5, 2.6, 2.7, 2.8, 2.9, 3. , 3.1, 3.2, 3.3, 3.4, 3.5,\n",
       "       3.6, 3.7, 3.8, 3.9, 4. , 4.1, 4.2, 4.3, 4.4, 4.5, 4.6, 4.7, 4.8,\n",
       "       4.9, 5. , 5.1, 5.2, 5.3, 5.4, 5.5, 5.6, 5.7, 5.8, 5.9, 6. , 6.1,\n",
       "       6.2, 6.3, 6.4, 6.5, 6.6, 6.7, 6.8, 6.9])"
      ]
     },
     "execution_count": 122,
     "metadata": {},
     "output_type": "execute_result"
    }
   ],
   "source": [
    "x = np.arange(start = 1, stop = 7, step = 0.1)\n",
    "x"
   ]
  },
  {
   "cell_type": "code",
   "execution_count": 123,
   "id": "33bc023c",
   "metadata": {},
   "outputs": [
    {
     "data": {
      "text/plain": [
       "array([4.40744603e-04, 6.98826903e-04, 1.09085337e-03, 1.67639859e-03,\n",
       "       2.53631007e-03, 3.77782254e-03, 5.53981051e-03, 7.99765039e-03,\n",
       "       1.13669531e-02, 1.59052270e-02, 2.19103756e-02, 2.97148760e-02,\n",
       "       3.96745648e-02, 5.21512316e-02, 6.74887081e-02, 8.59828448e-02,\n",
       "       1.07846649e-01, 1.33172835e-01, 1.61896995e-01, 1.93765332e-01,\n",
       "       2.28311357e-01, 2.64845807e-01, 3.02463406e-01, 3.40068748e-01,\n",
       "       3.76421790e-01, 4.10201211e-01, 4.40081658e-01, 4.64818867e-01,\n",
       "       4.83335146e-01, 4.94797109e-01, 4.98677851e-01, 4.94797109e-01,\n",
       "       4.83335146e-01, 4.64818867e-01, 4.40081658e-01, 4.10201211e-01,\n",
       "       3.76421790e-01, 3.40068748e-01, 3.02463406e-01, 2.64845807e-01,\n",
       "       2.28311357e-01, 1.93765332e-01, 1.61896995e-01, 1.33172835e-01,\n",
       "       1.07846649e-01, 8.59828448e-02, 6.74887081e-02, 5.21512316e-02,\n",
       "       3.96745648e-02, 2.97148760e-02, 2.19103756e-02, 1.59052270e-02,\n",
       "       1.13669531e-02, 7.99765039e-03, 5.53981051e-03, 3.77782254e-03,\n",
       "       2.53631007e-03, 1.67639859e-03, 1.09085337e-03, 6.98826903e-04])"
      ]
     },
     "execution_count": 123,
     "metadata": {},
     "output_type": "execute_result"
    }
   ],
   "source": [
    "stats.norm.pdf(x = x, loc = 4, scale = 0.8)      # 평균 4, 표준편차 0.8인 정규분포에서 x값에 대한 확률값"
   ]
  },
  {
   "cell_type": "code",
   "execution_count": 125,
   "id": "26937b75",
   "metadata": {},
   "outputs": [
    {
     "data": {
      "text/plain": [
       "[<matplotlib.lines.Line2D at 0x172a1a1f730>]"
      ]
     },
     "execution_count": 125,
     "metadata": {},
     "output_type": "execute_result"
    },
    {
     "data": {
      "image/png": "[encoded data removed]",
      "text/plain": [
       "<Figure size 432x288 with 1 Axes>"
      ]
     },
     "metadata": {
      "needs_background": "light"
     },
     "output_type": "display_data"
    }
   ],
   "source": [
    "plt.plot(stats.norm.pdf(x = x, loc = 4, scale = 0.8))"
   ]
  },
  {
   "cell_type": "code",
   "execution_count": 126,
   "id": "0a4cabe5",
   "metadata": {},
   "outputs": [
    {
     "data": {
      "text/plain": [
       "0.021910375616960673"
      ]
     },
     "execution_count": 126,
     "metadata": {},
     "output_type": "execute_result"
    }
   ],
   "source": [
    "stats.norm.pdf(2, loc = 4, scale = 0.8)"
   ]
  },
  {
   "cell_type": "code",
   "execution_count": 127,
   "id": "eebcbf7e",
   "metadata": {},
   "outputs": [
    {
     "data": {
      "text/plain": [
       "0.2283113567362774"
      ]
     },
     "execution_count": 127,
     "metadata": {},
     "output_type": "execute_result"
    }
   ],
   "source": [
    "stats.norm.pdf(3, loc = 4, scale = 0.8)"
   ]
  },
  {
   "cell_type": "code",
   "execution_count": null,
   "id": "a8c940a5",
   "metadata": {},
   "outputs": [],
   "source": []
  },
  {
   "cell_type": "code",
   "execution_count": 130,
   "id": "550aad0f",
   "metadata": {},
   "outputs": [
    {
     "data": {
      "text/plain": [
       "array([3.09501685, 4.60855689, 4.18171301, 4.31665997, 2.71252515,\n",
       "       5.25522352, 4.95865133, 3.73127701, 4.26909329, 3.60523969])"
      ]
     },
     "execution_count": 130,
     "metadata": {},
     "output_type": "execute_result"
    }
   ],
   "source": [
    "sample_norm = stats.norm.rvs(loc = 4, scale = 0.8, size = 10)   # rvs - 특정 분포에서 샘플을 추출하는 함수\n",
    "sample_norm"
   ]
  },
  {
   "cell_type": "code",
   "execution_count": 131,
   "id": "70aa3b8a",
   "metadata": {},
   "outputs": [
    {
     "data": {
      "text/plain": [
       "4.073395670729523"
      ]
     },
     "execution_count": 131,
     "metadata": {},
     "output_type": "execute_result"
    }
   ],
   "source": [
    "np.mean(sample_norm)"
   ]
  },
  {
   "cell_type": "code",
   "execution_count": 132,
   "id": "b7f72f0b",
   "metadata": {},
   "outputs": [
    {
     "data": {
      "text/plain": [
       "0.5721408808641618"
      ]
     },
     "execution_count": 132,
     "metadata": {},
     "output_type": "execute_result"
    }
   ],
   "source": [
    "sp.var(sample_norm)"
   ]
  },
  {
   "cell_type": "code",
   "execution_count": null,
   "id": "760a1f6e",
   "metadata": {},
   "outputs": [],
   "source": []
  },
  {
   "cell_type": "code",
   "execution_count": 133,
   "id": "475aa544",
   "metadata": {},
   "outputs": [],
   "source": [
    "population = stats.norm(loc = 4, scale = 0.8)   # 평균이 4이고 표준편차가 0.8인 정규분포 객체 생성"
   ]
  },
  {
   "cell_type": "code",
   "execution_count": 134,
   "id": "b3c307b8",
   "metadata": {},
   "outputs": [
    {
     "data": {
      "text/plain": [
       "array([3.65866836, 2.70038299, 3.67539761, 4.82475927, 2.70580766,\n",
       "       4.40220805, 4.36409998, 3.16432036, 3.51645874, 3.7517072 ])"
      ]
     },
     "execution_count": 134,
     "metadata": {},
     "output_type": "execute_result"
    }
   ],
   "source": [
    "population.rvs(size = 10)   # 샘플 10개 추출"
   ]
  },
  {
   "cell_type": "code",
   "execution_count": 135,
   "id": "8dd37806",
   "metadata": {},
   "outputs": [
    {
     "data": {
      "text/plain": [
       "0.2283113567362774"
      ]
     },
     "execution_count": 135,
     "metadata": {},
     "output_type": "execute_result"
    }
   ],
   "source": [
    "population.pdf(5)   # 5가 등장할 확률"
   ]
  },
  {
   "cell_type": "code",
   "execution_count": null,
   "id": "12dbaf49",
   "metadata": {},
   "outputs": [],
   "source": []
  },
  {
   "cell_type": "code",
   "execution_count": 136,
   "id": "936ae5f9",
   "metadata": {},
   "outputs": [],
   "source": [
    "# 중심극한정리"
   ]
  },
  {
   "cell_type": "code",
   "execution_count": 137,
   "id": "45937c71",
   "metadata": {},
   "outputs": [],
   "source": [
    "sample_means = []\n",
    "\n",
    "for _ in range(100):\n",
    "    sample = population.rvs(size = 30)   # 이론적으로 30개 이상 추출해야 중심극한정리 성립\n",
    "    sample_means.append(sp.mean(sample))"
   ]
  },
  {
   "cell_type": "code",
   "execution_count": 140,
   "id": "0860c9d0",
   "metadata": {},
   "outputs": [
    {
     "data": {
      "text/plain": [
       "3.9939059584382006"
      ]
     },
     "execution_count": 140,
     "metadata": {},
     "output_type": "execute_result"
    }
   ],
   "source": [
    "sp.mean(sample_means)"
   ]
  },
  {
   "cell_type": "code",
   "execution_count": 142,
   "id": "1f18132e",
   "metadata": {},
   "outputs": [
    {
     "data": {
      "text/plain": [
       "0.5915881655978152"
      ]
     },
     "execution_count": 142,
     "metadata": {},
     "output_type": "execute_result"
    }
   ],
   "source": [
    "sp.var(sample_means) * 30    # 표본평균분포의 분산 = theta / a"
   ]
  },
  {
   "cell_type": "code",
   "execution_count": 145,
   "id": "911bc699",
   "metadata": {},
   "outputs": [
    {
     "data": {
      "text/plain": [
       "<AxesSubplot:ylabel='Density'>"
      ]
     },
     "execution_count": 145,
     "metadata": {},
     "output_type": "execute_result"
    },
    {
     "data": {
      "image/png": "[encoded data removed]",
      "text/plain": [
       "<Figure size 432x288 with 1 Axes>"
      ]
     },
     "metadata": {
      "needs_background": "light"
     },
     "output_type": "display_data"
    }
   ],
   "source": [
    "sns.distplot(sample_means, bins = 100)"
   ]
  },
  {
   "cell_type": "code",
   "execution_count": null,
   "id": "98f12eda",
   "metadata": {},
   "outputs": [],
   "source": []
  },
  {
   "cell_type": "code",
   "execution_count": null,
   "id": "ce5d4ccb",
   "metadata": {},
   "outputs": [],
   "source": []
  },
  {
   "cell_type": "code",
   "execution_count": 146,
   "id": "c1dd12b9",
   "metadata": {},
   "outputs": [],
   "source": [
    "def calc_sample_mean(size = 30, n_trial = 10000):\n",
    "\n",
    "    sample_means = []\n",
    "\n",
    "    for _ in range(n_trial):\n",
    "        sample = population.rvs(size)   # 이론적으로 30개 이상 추출해야 중심극한정리 성립\n",
    "        sample_means.append(sp.mean(sample))\n",
    "        \n",
    "    return sample_means"
   ]
  },
  {
   "cell_type": "code",
   "execution_count": 157,
   "id": "7cee712a",
   "metadata": {},
   "outputs": [],
   "source": [
    "sam_arr1= calc_sample_mean(size =30, n_trial=1000)\n",
    "sam_arr2= calc_sample_mean(size =100, n_trial=1000)\n",
    "sam_arr3= calc_sample_mean(size =500, n_trial=1000)\n",
    "sam_arr4= calc_sample_mean(size =1000, n_trial=1000)"
   ]
  },
  {
   "cell_type": "code",
   "execution_count": 158,
   "id": "e01ea624",
   "metadata": {},
   "outputs": [
    {
     "name": "stdout",
     "output_type": "stream",
     "text": [
      "4.002894129478407 3.99972862183674 4.000229950995927 4.000457482839453\n"
     ]
    }
   ],
   "source": [
    "print(sp.mean(sam_arr1), sp.mean(sam_arr2), sp.mean(sam_arr3), sp.mean(sam_arr4))"
   ]
  },
  {
   "cell_type": "code",
   "execution_count": 159,
   "id": "d1e599f6",
   "metadata": {},
   "outputs": [
    {
     "name": "stdout",
     "output_type": "stream",
     "text": [
      "0.1475360218801626 0.08007137609187706 0.03482209912020058 0.025162711065839644\n"
     ]
    }
   ],
   "source": [
    "print(sp.std(sam_arr1), sp.std(sam_arr2), sp.std(sam_arr3), sp.std(sam_arr4))    # theta / n"
   ]
  },
  {
   "cell_type": "code",
   "execution_count": 154,
   "id": "4c23b675",
   "metadata": {},
   "outputs": [
    {
     "data": {
      "text/plain": [
       "<AxesSubplot:ylabel='Density'>"
      ]
     },
     "execution_count": 154,
     "metadata": {},
     "output_type": "execute_result"
    },
    {
     "data": {
      "image/png": "[encoded data removed]",
      "text/plain": [
       "<Figure size 432x288 with 1 Axes>"
      ]
     },
     "metadata": {
      "needs_background": "light"
     },
     "output_type": "display_data"
    }
   ],
   "source": [
    "sns.distplot(sam_arr1, bins=100)"
   ]
  },
  {
   "cell_type": "code",
   "execution_count": 156,
   "id": "25f81e2a",
   "metadata": {},
   "outputs": [
    {
     "data": {
      "text/plain": [
       "<AxesSubplot:ylabel='Density'>"
      ]
     },
     "execution_count": 156,
     "metadata": {},
     "output_type": "execute_result"
    },
    {
     "data": {
      "image/png": "[encoded data removed]",
      "text/plain": [
       "<Figure size 432x288 with 1 Axes>"
      ]
     },
     "metadata": {
      "needs_background": "light"
     },
     "output_type": "display_data"
    }
   ],
   "source": [
    "sns.distplot(sam_arr2, bins=100)"
   ]
  },
  {
   "cell_type": "code",
   "execution_count": 155,
   "id": "d44bd5e4",
   "metadata": {},
   "outputs": [
    {
     "data": {
      "text/plain": [
       "<AxesSubplot:ylabel='Density'>"
      ]
     },
     "execution_count": 155,
     "metadata": {},
     "output_type": "execute_result"
    },
    {
     "data": {
      "image/png": "[encoded data removed]",
      "text/plain": [
       "<Figure size 432x288 with 1 Axes>"
      ]
     },
     "metadata": {
      "needs_background": "light"
     },
     "output_type": "display_data"
    }
   ],
   "source": [
    "sns.distplot(sam_arr3, bins=100)"
   ]
  },
  {
   "cell_type": "code",
   "execution_count": 160,
   "id": "9ed7208b",
   "metadata": {},
   "outputs": [
    {
     "data": {
      "text/plain": [
       "<AxesSubplot:ylabel='Density'>"
      ]
     },
     "execution_count": 160,
     "metadata": {},
     "output_type": "execute_result"
    },
    {
     "data": {
      "image/png": "[encoded data removed]",
      "text/plain": [
       "<Figure size 432x288 with 1 Axes>"
      ]
     },
     "metadata": {
      "needs_background": "light"
     },
     "output_type": "display_data"
    }
   ],
   "source": [
    "sns.distplot(sam_arr4, bins=100)"
   ]
  },
  {
   "cell_type": "code",
   "execution_count": 161,
   "id": "711ae918",
   "metadata": {},
   "outputs": [],
   "source": [
    "# 샘플의 사이즈가 클수록 샘플평균의 분포는 평균은 모평균에 더욱 수렴하고 분산은 줄어든다."
   ]
  },
  {
   "cell_type": "code",
   "execution_count": null,
   "id": "4198e08a",
   "metadata": {},
   "outputs": [],
   "source": []
  },
  {
   "cell_type": "code",
   "execution_count": 164,
   "id": "a53dd312",
   "metadata": {},
   "outputs": [],
   "source": [
    "# 확률밀도함수\n",
    "\n",
    "# PDF(Probability Density Function, 확률 밀도 함수) : 확률분포\n",
    "# CDF(Cumulative Distribution Function, 누적 분포 함수) : 누적확률분포"
   ]
  },
  {
   "cell_type": "code",
   "execution_count": 165,
   "id": "6c0ba397",
   "metadata": {},
   "outputs": [],
   "source": [
    "x = np.arange(start = 1, stop = 7, step = 0.1)"
   ]
  },
  {
   "cell_type": "code",
   "execution_count": 167,
   "id": "c2a8f2cf",
   "metadata": {},
   "outputs": [
    {
     "data": {
      "text/plain": [
       "[<matplotlib.lines.Line2D at 0x172a3722850>]"
      ]
     },
     "execution_count": 167,
     "metadata": {},
     "output_type": "execute_result"
    },
    {
     "data": {
      "image/png": "[encoded data removed]",
      "text/plain": [
       "<Figure size 432x288 with 1 Axes>"
      ]
     },
     "metadata": {
      "needs_background": "light"
     },
     "output_type": "display_data"
    }
   ],
   "source": [
    "plt.plot(x, stats.norm.pdf(x=x, loc = 4, scale= 0.8))    # 특정 값의 확률"
   ]
  },
  {
   "cell_type": "code",
   "execution_count": 169,
   "id": "d4bb30ce",
   "metadata": {},
   "outputs": [
    {
     "data": {
      "text/plain": [
       "[<matplotlib.lines.Line2D at 0x172a378b5b0>]"
      ]
     },
     "execution_count": 169,
     "metadata": {},
     "output_type": "execute_result"
    },
    {
     "data": {
      "image/png": "[encoded data removed]",
      "text/plain": [
       "<Figure size 432x288 with 1 Axes>"
      ]
     },
     "metadata": {
      "needs_background": "light"
     },
     "output_type": "display_data"
    }
   ],
   "source": [
    "plt.plot(x, stats.norm.cdf(x=x, loc = 4, scale= 0.8))    # 0부터 특정 값까지 누적 확률"
   ]
  },
  {
   "cell_type": "code",
   "execution_count": 163,
   "id": "2d376838",
   "metadata": {},
   "outputs": [],
   "source": [
    "norm_dist = stats.norm(loc=4, scale=0.8)"
   ]
  },
  {
   "cell_type": "code",
   "execution_count": 170,
   "id": "1b42708e",
   "metadata": {},
   "outputs": [
    {
     "data": {
      "text/plain": [
       "0.2283113567362774"
      ]
     },
     "execution_count": 170,
     "metadata": {},
     "output_type": "execute_result"
    }
   ],
   "source": [
    "norm_dist.pdf(x=3)"
   ]
  },
  {
   "cell_type": "code",
   "execution_count": 171,
   "id": "fa08f076",
   "metadata": {},
   "outputs": [
    {
     "data": {
      "text/plain": [
       "0.10564977366685535"
      ]
     },
     "execution_count": 171,
     "metadata": {},
     "output_type": "execute_result"
    }
   ],
   "source": [
    "norm_dist.cdf(x=3)   # x 값을 입력받은 후 x까지의 누적밀도확률값"
   ]
  },
  {
   "cell_type": "code",
   "execution_count": 172,
   "id": "d00d4f3d",
   "metadata": {},
   "outputs": [
    {
     "data": {
      "text/plain": [
       "0.49867785050179086"
      ]
     },
     "execution_count": 172,
     "metadata": {},
     "output_type": "execute_result"
    }
   ],
   "source": [
    "norm_dist.pdf(x=4)"
   ]
  },
  {
   "cell_type": "code",
   "execution_count": 173,
   "id": "25af5d26",
   "metadata": {},
   "outputs": [
    {
     "data": {
      "text/plain": [
       "0.5"
      ]
     },
     "execution_count": 173,
     "metadata": {},
     "output_type": "execute_result"
    }
   ],
   "source": [
    "norm_dist.cdf(x=4)"
   ]
  },
  {
   "cell_type": "code",
   "execution_count": 176,
   "id": "4f67ad85",
   "metadata": {},
   "outputs": [
    {
     "data": {
      "text/plain": [
       "0.2283113567362774"
      ]
     },
     "execution_count": 176,
     "metadata": {},
     "output_type": "execute_result"
    }
   ],
   "source": [
    "norm_dist.pdf(x=5)"
   ]
  },
  {
   "cell_type": "code",
   "execution_count": 177,
   "id": "9197f71b",
   "metadata": {},
   "outputs": [
    {
     "data": {
      "text/plain": [
       "0.8943502263331446"
      ]
     },
     "execution_count": 177,
     "metadata": {},
     "output_type": "execute_result"
    }
   ],
   "source": [
    "norm_dist.cdf(x=5)"
   ]
  },
  {
   "cell_type": "code",
   "execution_count": null,
   "id": "72f04957",
   "metadata": {},
   "outputs": [],
   "source": []
  },
  {
   "cell_type": "code",
   "execution_count": null,
   "id": "e82421fa",
   "metadata": {},
   "outputs": [],
   "source": []
  },
  {
   "cell_type": "code",
   "execution_count": 178,
   "id": "bf27460c",
   "metadata": {},
   "outputs": [],
   "source": [
    "# 퍼센트포인트 : 누적확률값을 입력받은 후 x값을 리턴"
   ]
  },
  {
   "cell_type": "code",
   "execution_count": 179,
   "id": "f06f7226",
   "metadata": {},
   "outputs": [
    {
     "data": {
      "text/plain": [
       "2.4320288123679563"
      ]
     },
     "execution_count": 179,
     "metadata": {},
     "output_type": "execute_result"
    }
   ],
   "source": [
    "norm_dist.ppf(q = 0.025)"
   ]
  },
  {
   "cell_type": "code",
   "execution_count": 180,
   "id": "aafbbf29",
   "metadata": {},
   "outputs": [
    {
     "data": {
      "text/plain": [
       "4.0"
      ]
     },
     "execution_count": 180,
     "metadata": {},
     "output_type": "execute_result"
    }
   ],
   "source": [
    "norm_dist.ppf(q = 0.5)"
   ]
  },
  {
   "cell_type": "code",
   "execution_count": 183,
   "id": "df2abe8f",
   "metadata": {},
   "outputs": [
    {
     "data": {
      "text/plain": [
       "4.673296986858332"
      ]
     },
     "execution_count": 183,
     "metadata": {},
     "output_type": "execute_result"
    }
   ],
   "source": [
    "norm_dist.ppf(q = 0.8)"
   ]
  },
  {
   "cell_type": "code",
   "execution_count": null,
   "id": "ffe81b62",
   "metadata": {},
   "outputs": [],
   "source": []
  },
  {
   "cell_type": "code",
   "execution_count": 184,
   "id": "b40dc1fc",
   "metadata": {},
   "outputs": [
    {
     "data": {
      "text/plain": [
       "<scipy.stats._distn_infrastructure.rv_frozen at 0x172a3367f10>"
      ]
     },
     "execution_count": 184,
     "metadata": {},
     "output_type": "execute_result"
    }
   ],
   "source": [
    "norm_dist # 평균 5, 표준편차 0.8 정규분포"
   ]
  },
  {
   "cell_type": "code",
   "execution_count": 192,
   "id": "afc267d1",
   "metadata": {},
   "outputs": [
    {
     "data": {
      "text/plain": [
       "0.08598284478336488"
      ]
     },
     "execution_count": 192,
     "metadata": {},
     "output_type": "execute_result"
    }
   ],
   "source": [
    "# 5.5가 나올 확률\n",
    "\n",
    "norm_dist.pdf(5.5)"
   ]
  },
  {
   "cell_type": "code",
   "execution_count": 193,
   "id": "0d4c7790",
   "metadata": {},
   "outputs": [
    {
     "data": {
      "text/plain": [
       "0.10564977366685535"
      ]
     },
     "execution_count": 193,
     "metadata": {},
     "output_type": "execute_result"
    }
   ],
   "source": [
    "# 3 이하가 나올 확률을 구하시오\n",
    "\n",
    "norm_dist.cdf(3)"
   ]
  },
  {
   "cell_type": "code",
   "execution_count": 194,
   "id": "7cbcf332",
   "metadata": {},
   "outputs": [
    {
     "data": {
      "text/plain": [
       "0.10564977366685535"
      ]
     },
     "execution_count": 194,
     "metadata": {},
     "output_type": "execute_result"
    }
   ],
   "source": [
    "# 5 이상 나올 확률\n",
    "\n",
    "1 - norm_dist.cdf(5)"
   ]
  },
  {
   "cell_type": "code",
   "execution_count": 196,
   "id": "a0ce4f2e",
   "metadata": {},
   "outputs": [
    {
     "data": {
      "text/plain": [
       "0.09944010834107922"
      ]
     },
     "execution_count": 196,
     "metadata": {},
     "output_type": "execute_result"
    }
   ],
   "source": [
    "# 2 ~ 3이 나올 확률\n",
    "\n",
    "norm_dist.cdf(3) - norm_dist.cdf(2)"
   ]
  },
  {
   "cell_type": "code",
   "execution_count": 197,
   "id": "2612dd7f",
   "metadata": {},
   "outputs": [
    {
     "data": {
      "text/plain": [
       "0.9005598916589208"
      ]
     },
     "execution_count": 197,
     "metadata": {},
     "output_type": "execute_result"
    }
   ],
   "source": [
    "# 2 ~ 3이외의 값이 나올 확률\n",
    "\n",
    "1 - (norm_dist.cdf(3) - norm_dist.cdf(2))"
   ]
  },
  {
   "cell_type": "code",
   "execution_count": 201,
   "id": "198a4e82",
   "metadata": {},
   "outputs": [
    {
     "data": {
      "text/plain": [
       "4.419520410166433"
      ]
     },
     "execution_count": 201,
     "metadata": {},
     "output_type": "execute_result"
    }
   ],
   "source": [
    "# 누적확률이 70%가 되는 x값은\n",
    "\n",
    "norm_dist.ppf(0.7)"
   ]
  },
  {
   "cell_type": "code",
   "execution_count": 202,
   "id": "fd6d9049",
   "metadata": {},
   "outputs": [
    {
     "data": {
      "text/plain": [
       "0.2112995473337107"
      ]
     },
     "execution_count": 202,
     "metadata": {},
     "output_type": "execute_result"
    }
   ],
   "source": [
    "# 3보다 작고 5보다 클 확률\n",
    "\n",
    "(1 - norm_dist.cdf(5)) * 2"
   ]
  },
  {
   "cell_type": "code",
   "execution_count": null,
   "id": "5ae63942",
   "metadata": {},
   "outputs": [],
   "source": []
  },
  {
   "cell_type": "code",
   "execution_count": 203,
   "id": "dc5a0320",
   "metadata": {},
   "outputs": [],
   "source": [
    "# 정규분포 = > 표준정규분포 N(0, 1) : z분포\n",
    "# 표준화 : z = (x - x_mean) / x.std()"
   ]
  },
  {
   "cell_type": "code",
   "execution_count": 206,
   "id": "c29daf0f",
   "metadata": {},
   "outputs": [],
   "source": [
    "z_arr = (x - x.mean()) / x.std()"
   ]
  },
  {
   "cell_type": "code",
   "execution_count": 207,
   "id": "69cfd03a",
   "metadata": {},
   "outputs": [
    {
     "data": {
      "text/plain": [
       "-1.2212453270876723e-16"
      ]
     },
     "execution_count": 207,
     "metadata": {},
     "output_type": "execute_result"
    }
   ],
   "source": [
    "sp.mean(z_arr)"
   ]
  },
  {
   "cell_type": "code",
   "execution_count": 208,
   "id": "39f4468c",
   "metadata": {},
   "outputs": [
    {
     "data": {
      "text/plain": [
       "1.0"
      ]
     },
     "execution_count": 208,
     "metadata": {},
     "output_type": "execute_result"
    }
   ],
   "source": [
    "sp.std(z_arr)"
   ]
  },
  {
   "cell_type": "code",
   "execution_count": 209,
   "id": "ec8c3ba8",
   "metadata": {},
   "outputs": [],
   "source": [
    "# 표준정규분포 객체\n",
    "\n",
    "z_dist = stats.norm(loc = 0, scale = 1)"
   ]
  },
  {
   "cell_type": "code",
   "execution_count": null,
   "id": "0799af4d",
   "metadata": {},
   "outputs": [],
   "source": []
  },
  {
   "cell_type": "code",
   "execution_count": 212,
   "id": "bf6dc621",
   "metadata": {},
   "outputs": [
    {
     "name": "stdout",
     "output_type": "stream",
     "text": [
      "3.8808595631259055 0.7490660649897325\n"
     ]
    }
   ],
   "source": [
    "norm_temp = norm_dist.rvs(size=100)\n",
    "print(sp.mean(norm_temp), sp.std(norm_temp))"
   ]
  },
  {
   "cell_type": "code",
   "execution_count": 214,
   "id": "5dc377c0",
   "metadata": {},
   "outputs": [],
   "source": [
    "z_temp = (norm_temp - norm_temp.mean()) / sp.std(norm_temp)"
   ]
  },
  {
   "cell_type": "code",
   "execution_count": 215,
   "id": "ac1afe23",
   "metadata": {},
   "outputs": [],
   "source": [
    "def to_standardization(x):\n",
    "    return (x - 4) / 0.8"
   ]
  },
  {
   "cell_type": "code",
   "execution_count": 218,
   "id": "bcbaa59f",
   "metadata": {},
   "outputs": [
    {
     "data": {
      "text/plain": [
       "-1.25"
      ]
     },
     "execution_count": 218,
     "metadata": {},
     "output_type": "execute_result"
    }
   ],
   "source": [
    "z3 = to_standardization(3)\n",
    "z3"
   ]
  },
  {
   "cell_type": "code",
   "execution_count": 217,
   "id": "1d4d6487",
   "metadata": {},
   "outputs": [
    {
     "data": {
      "text/plain": [
       "0.10564977366685535"
      ]
     },
     "execution_count": 217,
     "metadata": {},
     "output_type": "execute_result"
    }
   ],
   "source": [
    "z_dist.cdf(z3)"
   ]
  },
  {
   "cell_type": "code",
   "execution_count": null,
   "id": "abd5bb91",
   "metadata": {},
   "outputs": [],
   "source": []
  }
 ],
 "metadata": {
  "kernelspec": {
   "display_name": "Python 3 (ipykernel)",
   "language": "python",
   "name": "python3"
  },
  "language_info": {
   "codemirror_mode": {
    "name": "ipython",
    "version": 3
   },
   "file_extension": ".py",
   "mimetype": "text/x-python",
   "name": "python",
   "nbconvert_exporter": "python",
   "pygments_lexer": "ipython3",
   "version": "3.9.7"
  }
 },
 "nbformat": 4,
 "nbformat_minor": 5
}
